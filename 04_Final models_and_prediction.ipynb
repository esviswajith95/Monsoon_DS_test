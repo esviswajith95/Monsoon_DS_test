{
 "cells": [
  {
   "attachments": {},
   "cell_type": "markdown",
   "metadata": {},
   "source": [
    "# Model comparison and predictions\n",
    "\n",
    "This notebook contain the final approach for feature selection and preprocessing. Model selection including HP tuning is also demonstrated here."
   ]
  },
  {
   "attachments": {},
   "cell_type": "markdown",
   "metadata": {},
   "source": [
    "Importing essential libraries"
   ]
  },
  {
   "cell_type": "code",
   "execution_count": 17,
   "metadata": {},
   "outputs": [],
   "source": [
    "import pandas as pd\n",
    "import numpy as np\n",
    "import matplotlib.pyplot as plt"
   ]
  },
  {
   "cell_type": "code",
   "execution_count": 18,
   "metadata": {},
   "outputs": [],
   "source": [
    "from sklearn.model_selection import train_test_split\n",
    "\n",
    "from sklearn.pipeline import Pipeline, FeatureUnion\n",
    "from sklearn.compose import ColumnTransformer\n",
    "\n",
    "from sklearn.model_selection import cross_validate, StratifiedShuffleSplit, GridSearchCV\n",
    "\n",
    "from sklearn.preprocessing import MinMaxScaler, OneHotEncoder, PolynomialFeatures\n",
    "from sklearn.impute import SimpleImputer\n",
    "\n",
    "from sklearn.linear_model import LogisticRegression\n",
    "from sklearn.tree import DecisionTreeClassifier\n",
    "from sklearn.ensemble import RandomForestClassifier, GradientBoostingClassifier\n",
    "from xgboost import XGBClassifier\n",
    "\n",
    "from sklearn.metrics import roc_auc_score, roc_curve, accuracy_score"
   ]
  },
  {
   "attachments": {},
   "cell_type": "markdown",
   "metadata": {},
   "source": [
    "## Load the data"
   ]
  },
  {
   "cell_type": "code",
   "execution_count": 19,
   "metadata": {},
   "outputs": [],
   "source": [
    "features = pd.read_csv(\"./../Training/X_train.csv\")\n",
    "labels = pd.read_csv(\"./../Training/y_train.csv\")"
   ]
  },
  {
   "cell_type": "markdown",
   "metadata": {},
   "source": [
    "sanity check"
   ]
  },
  {
   "cell_type": "code",
   "execution_count": 20,
   "metadata": {},
   "outputs": [
    {
     "name": "stdout",
     "output_type": "stream",
     "text": [
      "The shape of training feature matrix is (33050, 44)\n",
      "The shape of training labels is (33050, 2)\n"
     ]
    }
   ],
   "source": [
    "print(f\"The shape of training feature matrix is {features.shape}\")\n",
    "print(f\"The shape of training labels is {labels.shape}\")"
   ]
  },
  {
   "attachments": {},
   "cell_type": "markdown",
   "metadata": {},
   "source": [
    "sanity check"
   ]
  },
  {
   "cell_type": "code",
   "execution_count": 21,
   "metadata": {},
   "outputs": [],
   "source": [
    "#Sanity check to see if the rows in X and y corresponds to the same entities\n",
    "assert (features[\"Unique_ID\"] == labels[\"Unique_ID\"]).all()"
   ]
  },
  {
   "attachments": {},
   "cell_type": "markdown",
   "metadata": {},
   "source": [
    "## Train Test split\n",
    "\n",
    "We need to set aside a portion of our training data to perform evaluations for selecting the best model. It is best to do it in the outset itself to avoid any data leakage or bias"
   ]
  },
  {
   "cell_type": "code",
   "execution_count": 22,
   "metadata": {},
   "outputs": [],
   "source": [
    "y = labels[\"Dependent_Variable\"]\n",
    "X = features.drop(\"Unique_ID\", axis=1)\n",
    "\n",
    "X_train, X_test, y_train, y_test = train_test_split(X, y, test_size=0.2, shuffle=True, random_state=42, stratify=y) # Random state is set to ensure reproducibility"
   ]
  },
  {
   "cell_type": "code",
   "execution_count": 23,
   "metadata": {},
   "outputs": [
    {
     "name": "stdout",
     "output_type": "stream",
     "text": [
      "The shape of X_train is (26440, 43)\n",
      "The shape of y_train is (26440,)\n",
      "\n",
      "The shape of X_test is (6610, 43)\n",
      "The shape of y_test is (6610,)\n"
     ]
    }
   ],
   "source": [
    "print(f\"The shape of X_train is {X_train.shape}\")\n",
    "print(f\"The shape of y_train is {y_train.shape}\")\n",
    "print()\n",
    "print(f\"The shape of X_test is {X_test.shape}\")\n",
    "print(f\"The shape of y_test is {y_test.shape}\")"
   ]
  },
  {
   "attachments": {},
   "cell_type": "markdown",
   "metadata": {},
   "source": [
    "## Cross validation scheme\n",
    "\n",
    "We use stratified shuffle spit strategy to partition our training data for training and evaluation. This strategy is used to ensure all folds contain data representitive of the full distribution"
   ]
  },
  {
   "cell_type": "code",
   "execution_count": 24,
   "metadata": {},
   "outputs": [],
   "source": [
    "cv = StratifiedShuffleSplit(n_splits=5, test_size=0.2, random_state=42)"
   ]
  },
  {
   "attachments": {},
   "cell_type": "markdown",
   "metadata": {},
   "source": [
    "## Preprocessing\n",
    "\n",
    "* There are categorical and numerical features in the datset.\n",
    "\n",
    "* Highly correlated features are removed - (N5 - N8,  N20 & N27)\n",
    "\n",
    "* Features with more than 80% of their values missing are also removed -(N25 - N32).\n",
    "\n",
    "* Remaining Categorical features are one hot encoded\n",
    "\n",
    "* Numerical features have missing values. Simple strategy of using mean value of the feature in the place of missing value is used to handle missing values. The values are then scaled to ensure all features lie in a similar numerical range.\n",
    "\n",
    "* Pipelines are used for all preprocessing steps. This ensure that mistakes are not introduced and data leakage doesn't occur.\n"
   ]
  },
  {
   "cell_type": "code",
   "execution_count": 25,
   "metadata": {},
   "outputs": [],
   "source": [
    "# Categorical features\n",
    "cat_features = ['C1', 'C2', 'C3', 'C4', 'C5', 'C6', 'C7', 'C8']\n",
    "\n",
    "# Numerical features -> N5 - N8 & N20, N27 removed because of high correlation. \n",
    "#                       N25 - N32 removed due to large number of missing values\n",
    "\n",
    "num_features = ['N1', 'N2', 'N3', 'N4', 'N9', 'N10', 'N10.1', 'N11', \n",
    "                'N12', 'N14','N15','N16', 'N17', 'N18', 'N19', 'N20',\n",
    "                 'N21', 'N22', 'N23', 'N24', 'N33', 'N34','N35']"
   ]
  },
  {
   "attachments": {},
   "cell_type": "markdown",
   "metadata": {},
   "source": [
    "Preprocessing is left the same as before"
   ]
  },
  {
   "cell_type": "code",
   "execution_count": 26,
   "metadata": {},
   "outputs": [],
   "source": [
    "## Pipeline for categorical features\n",
    "\n",
    "# select the categorical features from the input\n",
    "select_cat_features = ColumnTransformer([('select_cat', 'passthrough', cat_features)])\n",
    "\n",
    "#OneHot encoding\n",
    "cat_transformers = Pipeline([('selector', select_cat_features),\n",
    "                            ('onehot', OneHotEncoder(handle_unknown='infrequent_if_exist')),\n",
    "                            ])\n",
    "\n",
    "## Pipeline for numerical featurees\n",
    "\n",
    "# select the numerical variables                            \n",
    "select_num_features = ColumnTransformer([('select_num', 'passthrough', num_features)])\n",
    "\n",
    "# Imputing for missing values, Scaling\n",
    "num_transformers = Pipeline([('selector', select_num_features),\n",
    "                            ('imputer', SimpleImputer()),\n",
    "                            ('scaler', MinMaxScaler()),\n",
    "                            ])\n",
    "\n",
    "## combining both pipelines\n",
    "preprocess_pipe = FeatureUnion([('cat', cat_transformers),\n",
    "                                ('num', num_transformers),\n",
    "                                ])"
   ]
  },
  {
   "cell_type": "code",
   "execution_count": 27,
   "metadata": {},
   "outputs": [
    {
     "data": {
      "text/html": [
       "<style>#sk-container-id-2 {color: black;background-color: white;}#sk-container-id-2 pre{padding: 0;}#sk-container-id-2 div.sk-toggleable {background-color: white;}#sk-container-id-2 label.sk-toggleable__label {cursor: pointer;display: block;width: 100%;margin-bottom: 0;padding: 0.3em;box-sizing: border-box;text-align: center;}#sk-container-id-2 label.sk-toggleable__label-arrow:before {content: \"▸\";float: left;margin-right: 0.25em;color: #696969;}#sk-container-id-2 label.sk-toggleable__label-arrow:hover:before {color: black;}#sk-container-id-2 div.sk-estimator:hover label.sk-toggleable__label-arrow:before {color: black;}#sk-container-id-2 div.sk-toggleable__content {max-height: 0;max-width: 0;overflow: hidden;text-align: left;background-color: #f0f8ff;}#sk-container-id-2 div.sk-toggleable__content pre {margin: 0.2em;color: black;border-radius: 0.25em;background-color: #f0f8ff;}#sk-container-id-2 input.sk-toggleable__control:checked~div.sk-toggleable__content {max-height: 200px;max-width: 100%;overflow: auto;}#sk-container-id-2 input.sk-toggleable__control:checked~label.sk-toggleable__label-arrow:before {content: \"▾\";}#sk-container-id-2 div.sk-estimator input.sk-toggleable__control:checked~label.sk-toggleable__label {background-color: #d4ebff;}#sk-container-id-2 div.sk-label input.sk-toggleable__control:checked~label.sk-toggleable__label {background-color: #d4ebff;}#sk-container-id-2 input.sk-hidden--visually {border: 0;clip: rect(1px 1px 1px 1px);clip: rect(1px, 1px, 1px, 1px);height: 1px;margin: -1px;overflow: hidden;padding: 0;position: absolute;width: 1px;}#sk-container-id-2 div.sk-estimator {font-family: monospace;background-color: #f0f8ff;border: 1px dotted black;border-radius: 0.25em;box-sizing: border-box;margin-bottom: 0.5em;}#sk-container-id-2 div.sk-estimator:hover {background-color: #d4ebff;}#sk-container-id-2 div.sk-parallel-item::after {content: \"\";width: 100%;border-bottom: 1px solid gray;flex-grow: 1;}#sk-container-id-2 div.sk-label:hover label.sk-toggleable__label {background-color: #d4ebff;}#sk-container-id-2 div.sk-serial::before {content: \"\";position: absolute;border-left: 1px solid gray;box-sizing: border-box;top: 0;bottom: 0;left: 50%;z-index: 0;}#sk-container-id-2 div.sk-serial {display: flex;flex-direction: column;align-items: center;background-color: white;padding-right: 0.2em;padding-left: 0.2em;position: relative;}#sk-container-id-2 div.sk-item {position: relative;z-index: 1;}#sk-container-id-2 div.sk-parallel {display: flex;align-items: stretch;justify-content: center;background-color: white;position: relative;}#sk-container-id-2 div.sk-item::before, #sk-container-id-2 div.sk-parallel-item::before {content: \"\";position: absolute;border-left: 1px solid gray;box-sizing: border-box;top: 0;bottom: 0;left: 50%;z-index: -1;}#sk-container-id-2 div.sk-parallel-item {display: flex;flex-direction: column;z-index: 1;position: relative;background-color: white;}#sk-container-id-2 div.sk-parallel-item:first-child::after {align-self: flex-end;width: 50%;}#sk-container-id-2 div.sk-parallel-item:last-child::after {align-self: flex-start;width: 50%;}#sk-container-id-2 div.sk-parallel-item:only-child::after {width: 0;}#sk-container-id-2 div.sk-dashed-wrapped {border: 1px dashed gray;margin: 0 0.4em 0.5em 0.4em;box-sizing: border-box;padding-bottom: 0.4em;background-color: white;}#sk-container-id-2 div.sk-label label {font-family: monospace;font-weight: bold;display: inline-block;line-height: 1.2em;}#sk-container-id-2 div.sk-label-container {text-align: center;}#sk-container-id-2 div.sk-container {/* jupyter's `normalize.less` sets `[hidden] { display: none; }` but bootstrap.min.css set `[hidden] { display: none !important; }` so we also need the `!important` here to be able to override the default hidden behavior on the sphinx rendered scikit-learn.org. See: https://github.com/scikit-learn/scikit-learn/issues/21755 */display: inline-block !important;position: relative;}#sk-container-id-2 div.sk-text-repr-fallback {display: none;}</style><div id=\"sk-container-id-2\" class=\"sk-top-container\"><div class=\"sk-text-repr-fallback\"><pre>FeatureUnion(transformer_list=[(&#x27;cat&#x27;,\n",
       "                                Pipeline(steps=[(&#x27;selector&#x27;,\n",
       "                                                 ColumnTransformer(transformers=[(&#x27;select_cat&#x27;,\n",
       "                                                                                  &#x27;passthrough&#x27;,\n",
       "                                                                                  [&#x27;C1&#x27;,\n",
       "                                                                                   &#x27;C2&#x27;,\n",
       "                                                                                   &#x27;C3&#x27;,\n",
       "                                                                                   &#x27;C4&#x27;,\n",
       "                                                                                   &#x27;C5&#x27;,\n",
       "                                                                                   &#x27;C6&#x27;,\n",
       "                                                                                   &#x27;C7&#x27;,\n",
       "                                                                                   &#x27;C8&#x27;])])),\n",
       "                                                (&#x27;onehot&#x27;,\n",
       "                                                 OneHotEncoder(handle_unknown=&#x27;infrequent_if_exist&#x27;))])),\n",
       "                               (&#x27;num&#x27;,\n",
       "                                Pipeline(steps=[(&#x27;selector&#x27;,\n",
       "                                                 ColumnTransformer(transformers=[(&#x27;select_num&#x27;,\n",
       "                                                                                  &#x27;passthrough&#x27;,\n",
       "                                                                                  [&#x27;N1&#x27;,\n",
       "                                                                                   &#x27;N2&#x27;,\n",
       "                                                                                   &#x27;N3&#x27;,\n",
       "                                                                                   &#x27;N4&#x27;,\n",
       "                                                                                   &#x27;N9&#x27;,\n",
       "                                                                                   &#x27;N10&#x27;,\n",
       "                                                                                   &#x27;N10.1&#x27;,\n",
       "                                                                                   &#x27;N11&#x27;,\n",
       "                                                                                   &#x27;N12&#x27;,\n",
       "                                                                                   &#x27;N14&#x27;,\n",
       "                                                                                   &#x27;N15&#x27;,\n",
       "                                                                                   &#x27;N16&#x27;,\n",
       "                                                                                   &#x27;N17&#x27;,\n",
       "                                                                                   &#x27;N18&#x27;,\n",
       "                                                                                   &#x27;N19&#x27;,\n",
       "                                                                                   &#x27;N20&#x27;,\n",
       "                                                                                   &#x27;N21&#x27;,\n",
       "                                                                                   &#x27;N22&#x27;,\n",
       "                                                                                   &#x27;N23&#x27;,\n",
       "                                                                                   &#x27;N24&#x27;,\n",
       "                                                                                   &#x27;N33&#x27;,\n",
       "                                                                                   &#x27;N34&#x27;,\n",
       "                                                                                   &#x27;N35&#x27;])])),\n",
       "                                                (&#x27;imputer&#x27;, SimpleImputer()),\n",
       "                                                (&#x27;scaler&#x27;, MinMaxScaler())]))])</pre><b>In a Jupyter environment, please rerun this cell to show the HTML representation or trust the notebook. <br />On GitHub, the HTML representation is unable to render, please try loading this page with nbviewer.org.</b></div><div class=\"sk-container\" hidden><div class=\"sk-item sk-dashed-wrapped\"><div class=\"sk-label-container\"><div class=\"sk-label sk-toggleable\"><input class=\"sk-toggleable__control sk-hidden--visually\" id=\"sk-estimator-id-11\" type=\"checkbox\" ><label for=\"sk-estimator-id-11\" class=\"sk-toggleable__label sk-toggleable__label-arrow\">FeatureUnion</label><div class=\"sk-toggleable__content\"><pre>FeatureUnion(transformer_list=[(&#x27;cat&#x27;,\n",
       "                                Pipeline(steps=[(&#x27;selector&#x27;,\n",
       "                                                 ColumnTransformer(transformers=[(&#x27;select_cat&#x27;,\n",
       "                                                                                  &#x27;passthrough&#x27;,\n",
       "                                                                                  [&#x27;C1&#x27;,\n",
       "                                                                                   &#x27;C2&#x27;,\n",
       "                                                                                   &#x27;C3&#x27;,\n",
       "                                                                                   &#x27;C4&#x27;,\n",
       "                                                                                   &#x27;C5&#x27;,\n",
       "                                                                                   &#x27;C6&#x27;,\n",
       "                                                                                   &#x27;C7&#x27;,\n",
       "                                                                                   &#x27;C8&#x27;])])),\n",
       "                                                (&#x27;onehot&#x27;,\n",
       "                                                 OneHotEncoder(handle_unknown=&#x27;infrequent_if_exist&#x27;))])),\n",
       "                               (&#x27;num&#x27;,\n",
       "                                Pipeline(steps=[(&#x27;selector&#x27;,\n",
       "                                                 ColumnTransformer(transformers=[(&#x27;select_num&#x27;,\n",
       "                                                                                  &#x27;passthrough&#x27;,\n",
       "                                                                                  [&#x27;N1&#x27;,\n",
       "                                                                                   &#x27;N2&#x27;,\n",
       "                                                                                   &#x27;N3&#x27;,\n",
       "                                                                                   &#x27;N4&#x27;,\n",
       "                                                                                   &#x27;N9&#x27;,\n",
       "                                                                                   &#x27;N10&#x27;,\n",
       "                                                                                   &#x27;N10.1&#x27;,\n",
       "                                                                                   &#x27;N11&#x27;,\n",
       "                                                                                   &#x27;N12&#x27;,\n",
       "                                                                                   &#x27;N14&#x27;,\n",
       "                                                                                   &#x27;N15&#x27;,\n",
       "                                                                                   &#x27;N16&#x27;,\n",
       "                                                                                   &#x27;N17&#x27;,\n",
       "                                                                                   &#x27;N18&#x27;,\n",
       "                                                                                   &#x27;N19&#x27;,\n",
       "                                                                                   &#x27;N20&#x27;,\n",
       "                                                                                   &#x27;N21&#x27;,\n",
       "                                                                                   &#x27;N22&#x27;,\n",
       "                                                                                   &#x27;N23&#x27;,\n",
       "                                                                                   &#x27;N24&#x27;,\n",
       "                                                                                   &#x27;N33&#x27;,\n",
       "                                                                                   &#x27;N34&#x27;,\n",
       "                                                                                   &#x27;N35&#x27;])])),\n",
       "                                                (&#x27;imputer&#x27;, SimpleImputer()),\n",
       "                                                (&#x27;scaler&#x27;, MinMaxScaler())]))])</pre></div></div></div><div class=\"sk-parallel\"><div class=\"sk-parallel-item\"><div class=\"sk-item\"><div class=\"sk-label-container\"><div class=\"sk-label sk-toggleable\"><label>cat</label></div></div><div class=\"sk-serial\"><div class=\"sk-item\"><div class=\"sk-serial\"><div class=\"sk-item sk-dashed-wrapped\"><div class=\"sk-label-container\"><div class=\"sk-label sk-toggleable\"><input class=\"sk-toggleable__control sk-hidden--visually\" id=\"sk-estimator-id-12\" type=\"checkbox\" ><label for=\"sk-estimator-id-12\" class=\"sk-toggleable__label sk-toggleable__label-arrow\">selector: ColumnTransformer</label><div class=\"sk-toggleable__content\"><pre>ColumnTransformer(transformers=[(&#x27;select_cat&#x27;, &#x27;passthrough&#x27;,\n",
       "                                 [&#x27;C1&#x27;, &#x27;C2&#x27;, &#x27;C3&#x27;, &#x27;C4&#x27;, &#x27;C5&#x27;, &#x27;C6&#x27;, &#x27;C7&#x27;,\n",
       "                                  &#x27;C8&#x27;])])</pre></div></div></div><div class=\"sk-parallel\"><div class=\"sk-parallel-item\"><div class=\"sk-item\"><div class=\"sk-label-container\"><div class=\"sk-label sk-toggleable\"><input class=\"sk-toggleable__control sk-hidden--visually\" id=\"sk-estimator-id-13\" type=\"checkbox\" ><label for=\"sk-estimator-id-13\" class=\"sk-toggleable__label sk-toggleable__label-arrow\">select_cat</label><div class=\"sk-toggleable__content\"><pre>[&#x27;C1&#x27;, &#x27;C2&#x27;, &#x27;C3&#x27;, &#x27;C4&#x27;, &#x27;C5&#x27;, &#x27;C6&#x27;, &#x27;C7&#x27;, &#x27;C8&#x27;]</pre></div></div></div><div class=\"sk-serial\"><div class=\"sk-item\"><div class=\"sk-estimator sk-toggleable\"><input class=\"sk-toggleable__control sk-hidden--visually\" id=\"sk-estimator-id-14\" type=\"checkbox\" ><label for=\"sk-estimator-id-14\" class=\"sk-toggleable__label sk-toggleable__label-arrow\">passthrough</label><div class=\"sk-toggleable__content\"><pre>passthrough</pre></div></div></div></div></div></div></div></div><div class=\"sk-item\"><div class=\"sk-estimator sk-toggleable\"><input class=\"sk-toggleable__control sk-hidden--visually\" id=\"sk-estimator-id-15\" type=\"checkbox\" ><label for=\"sk-estimator-id-15\" class=\"sk-toggleable__label sk-toggleable__label-arrow\">OneHotEncoder</label><div class=\"sk-toggleable__content\"><pre>OneHotEncoder(handle_unknown=&#x27;infrequent_if_exist&#x27;)</pre></div></div></div></div></div></div></div></div><div class=\"sk-parallel-item\"><div class=\"sk-item\"><div class=\"sk-label-container\"><div class=\"sk-label sk-toggleable\"><label>num</label></div></div><div class=\"sk-serial\"><div class=\"sk-item\"><div class=\"sk-serial\"><div class=\"sk-item sk-dashed-wrapped\"><div class=\"sk-label-container\"><div class=\"sk-label sk-toggleable\"><input class=\"sk-toggleable__control sk-hidden--visually\" id=\"sk-estimator-id-16\" type=\"checkbox\" ><label for=\"sk-estimator-id-16\" class=\"sk-toggleable__label sk-toggleable__label-arrow\">selector: ColumnTransformer</label><div class=\"sk-toggleable__content\"><pre>ColumnTransformer(transformers=[(&#x27;select_num&#x27;, &#x27;passthrough&#x27;,\n",
       "                                 [&#x27;N1&#x27;, &#x27;N2&#x27;, &#x27;N3&#x27;, &#x27;N4&#x27;, &#x27;N9&#x27;, &#x27;N10&#x27;, &#x27;N10.1&#x27;,\n",
       "                                  &#x27;N11&#x27;, &#x27;N12&#x27;, &#x27;N14&#x27;, &#x27;N15&#x27;, &#x27;N16&#x27;, &#x27;N17&#x27;,\n",
       "                                  &#x27;N18&#x27;, &#x27;N19&#x27;, &#x27;N20&#x27;, &#x27;N21&#x27;, &#x27;N22&#x27;, &#x27;N23&#x27;,\n",
       "                                  &#x27;N24&#x27;, &#x27;N33&#x27;, &#x27;N34&#x27;, &#x27;N35&#x27;])])</pre></div></div></div><div class=\"sk-parallel\"><div class=\"sk-parallel-item\"><div class=\"sk-item\"><div class=\"sk-label-container\"><div class=\"sk-label sk-toggleable\"><input class=\"sk-toggleable__control sk-hidden--visually\" id=\"sk-estimator-id-17\" type=\"checkbox\" ><label for=\"sk-estimator-id-17\" class=\"sk-toggleable__label sk-toggleable__label-arrow\">select_num</label><div class=\"sk-toggleable__content\"><pre>[&#x27;N1&#x27;, &#x27;N2&#x27;, &#x27;N3&#x27;, &#x27;N4&#x27;, &#x27;N9&#x27;, &#x27;N10&#x27;, &#x27;N10.1&#x27;, &#x27;N11&#x27;, &#x27;N12&#x27;, &#x27;N14&#x27;, &#x27;N15&#x27;, &#x27;N16&#x27;, &#x27;N17&#x27;, &#x27;N18&#x27;, &#x27;N19&#x27;, &#x27;N20&#x27;, &#x27;N21&#x27;, &#x27;N22&#x27;, &#x27;N23&#x27;, &#x27;N24&#x27;, &#x27;N33&#x27;, &#x27;N34&#x27;, &#x27;N35&#x27;]</pre></div></div></div><div class=\"sk-serial\"><div class=\"sk-item\"><div class=\"sk-estimator sk-toggleable\"><input class=\"sk-toggleable__control sk-hidden--visually\" id=\"sk-estimator-id-18\" type=\"checkbox\" ><label for=\"sk-estimator-id-18\" class=\"sk-toggleable__label sk-toggleable__label-arrow\">passthrough</label><div class=\"sk-toggleable__content\"><pre>passthrough</pre></div></div></div></div></div></div></div></div><div class=\"sk-item\"><div class=\"sk-estimator sk-toggleable\"><input class=\"sk-toggleable__control sk-hidden--visually\" id=\"sk-estimator-id-19\" type=\"checkbox\" ><label for=\"sk-estimator-id-19\" class=\"sk-toggleable__label sk-toggleable__label-arrow\">SimpleImputer</label><div class=\"sk-toggleable__content\"><pre>SimpleImputer()</pre></div></div></div><div class=\"sk-item\"><div class=\"sk-estimator sk-toggleable\"><input class=\"sk-toggleable__control sk-hidden--visually\" id=\"sk-estimator-id-20\" type=\"checkbox\" ><label for=\"sk-estimator-id-20\" class=\"sk-toggleable__label sk-toggleable__label-arrow\">MinMaxScaler</label><div class=\"sk-toggleable__content\"><pre>MinMaxScaler()</pre></div></div></div></div></div></div></div></div></div></div></div></div>"
      ],
      "text/plain": [
       "FeatureUnion(transformer_list=[('cat',\n",
       "                                Pipeline(steps=[('selector',\n",
       "                                                 ColumnTransformer(transformers=[('select_cat',\n",
       "                                                                                  'passthrough',\n",
       "                                                                                  ['C1',\n",
       "                                                                                   'C2',\n",
       "                                                                                   'C3',\n",
       "                                                                                   'C4',\n",
       "                                                                                   'C5',\n",
       "                                                                                   'C6',\n",
       "                                                                                   'C7',\n",
       "                                                                                   'C8'])])),\n",
       "                                                ('onehot',\n",
       "                                                 OneHotEncoder(handle_unknown='infrequent_if_exist'))])),\n",
       "                               ('num',\n",
       "                                Pipeline(steps=[('selector',\n",
       "                                                 ColumnTransformer(transformers=[('select_num',\n",
       "                                                                                  'passthrough',\n",
       "                                                                                  ['N1',\n",
       "                                                                                   'N2',\n",
       "                                                                                   'N3',\n",
       "                                                                                   'N4',\n",
       "                                                                                   'N9',\n",
       "                                                                                   'N10',\n",
       "                                                                                   'N10.1',\n",
       "                                                                                   'N11',\n",
       "                                                                                   'N12',\n",
       "                                                                                   'N14',\n",
       "                                                                                   'N15',\n",
       "                                                                                   'N16',\n",
       "                                                                                   'N17',\n",
       "                                                                                   'N18',\n",
       "                                                                                   'N19',\n",
       "                                                                                   'N20',\n",
       "                                                                                   'N21',\n",
       "                                                                                   'N22',\n",
       "                                                                                   'N23',\n",
       "                                                                                   'N24',\n",
       "                                                                                   'N33',\n",
       "                                                                                   'N34',\n",
       "                                                                                   'N35'])])),\n",
       "                                                ('imputer', SimpleImputer()),\n",
       "                                                ('scaler', MinMaxScaler())]))])"
      ]
     },
     "execution_count": 27,
     "metadata": {},
     "output_type": "execute_result"
    }
   ],
   "source": [
    "preprocess_pipe"
   ]
  },
  {
   "attachments": {},
   "cell_type": "markdown",
   "metadata": {},
   "source": [
    "## List of models\n",
    "\n",
    "Since AUC-ROC is our metric of choice, we need a model which will give probability estimates. We will train the following models and compare their performance.\n",
    "\n",
    "1. Logistic regression\n",
    "2. Decision Tree\n",
    "3. Random Forest\n",
    "4. XGBoost\n",
    "5. Gradient Boosting(Sklearn implemetation)"
   ]
  },
  {
   "cell_type": "code",
   "execution_count": 28,
   "metadata": {},
   "outputs": [],
   "source": [
    "# A list of dictionaries where each dictionary corresponds to a model family. Each model need a name, an instance of its estimator and parameter grid to tune hyperparameters with GridSearchCV\n",
    "model_list = [{\"name\": \"Logistic Regression\",\n",
    "                \"model\": LogisticRegression(max_iter=2000, solver = 'saga', random_state=42),\n",
    "                \"param_grid\": {\"model__C\": [0.001, 0.1, 1, 10, 100],\n",
    "                                \"model__penalty\": ['l1', 'l2']}\n",
    "            },\n",
    "\n",
    "            {\"name\": \"Decision tree\",\n",
    "            \"model\": DecisionTreeClassifier(random_state=42),\n",
    "            \"param_grid\": {\"model__max_depth\": [5, 10, 15, 20],\n",
    "                            \"model__min_samples_split\": range(2, 10, 2),\n",
    "                            \"model__min_samples_leaf\": range(1, 5)}\n",
    "            },\n",
    "            \n",
    "            {\"name\": \"Random Forest\",\n",
    "            \"model\": RandomForestClassifier(random_state=42),\n",
    "            \"param_grid\": { \"model__min_samples_split\":[4,8,10,12], \n",
    "                            \"model__n_estimators\":[300, 350, 400, 500]}\n",
    "            },\n",
    "\n",
    "            {\"name\": \"XGBoost\",\n",
    "            \"model\": XGBClassifier(random_state=42),\n",
    "            \"param_grid\": {\"model__max_depth\": [5, 10, 15, 20, None],\n",
    "                            \"model__n_estimators\": [100, 200, 300]}\n",
    "            },\n",
    "\n",
    "            {\"name\": \"Gradient boosting trees\",\n",
    "            \"model\": GradientBoostingClassifier(random_state=42),\n",
    "            \"param_grid\": {\"model__learning_rate\": [1e-3, 1e-2, 1e-1],\n",
    "                            \"model__n_estimators\": [100, 200, 300]}\n",
    "            }\n",
    "\n",
    "\n",
    "        ]"
   ]
  },
  {
   "attachments": {},
   "cell_type": "markdown",
   "metadata": {},
   "source": [
    "## Model training, Hyper parameter tuning and evaluation"
   ]
  },
  {
   "attachments": {},
   "cell_type": "markdown",
   "metadata": {},
   "source": [
    "### Helper functions for training and evaluation\n",
    "\n",
    "Four functions are defined here to help train, tune, evaluate and compare models. This will help get rid of a lot of boiler plate code and help automate repeated tasks."
   ]
  },
  {
   "cell_type": "code",
   "execution_count": 29,
   "metadata": {},
   "outputs": [],
   "source": [
    "def train_model(model, X_train, y_train, cv=5):\n",
    "    '''Trains the  model\n",
    "    Args:\n",
    "        model: Instance of the model to train\n",
    "        X_train: Training data feature matrix\n",
    "        y_train: Training data label vector\n",
    "        cv: Cross validation Scheme\n",
    "        \n",
    "    Returns:\n",
    "        trained model\n",
    "        cv_results\n",
    "    '''\n",
    "\n",
    "    \n",
    "    cv_results = cross_validate(model, X_train, y_train,\n",
    "                                cv=cv,\n",
    "                                scoring='roc_auc', \n",
    "                                return_train_score=True)\n",
    "\n",
    "    mean_train_score = cv_results[\"train_score\"].mean()\n",
    "    mean_val_score = cv_results[\"test_score\"].mean()\n",
    "    \n",
    "    std_train_score = cv_results[\"train_score\"].std()\n",
    "    std_val_score = cv_results[\"test_score\"].std()\n",
    "\n",
    "    print(f\"Cross validated training results for the model\")\n",
    "    print(f\"Train score: {mean_train_score} +/- {std_train_score}\" )\n",
    "    print(f\"Validation score: {mean_val_score} +/- {std_val_score}\" )\n",
    "\n",
    "    trained_model = model.fit(X_train, y_train)\n",
    "\n",
    "    return trained_model, cv_results\n",
    "\n",
    "def evaluate_model(model, X_test, y_test):\n",
    "\n",
    "    '''Evaluates the  model\n",
    "    Args:\n",
    "        fitted_model: Instance of the model to train\n",
    "        X_test: Test data feature matrix\n",
    "        y_test: Test data label vector\n",
    "        \n",
    "    Returns:\n",
    "        metrics: A dictionary containing auc_roc score, accuracy, fpr and tpr\n",
    "    '''\n",
    "    y_pred = model.predict(X_test)\n",
    "    y_scores = model.predict_proba(X_test)[:, 1]\n",
    "\n",
    "    auc = roc_auc_score(y_test, y_scores)\n",
    "    acc = accuracy_score(y_test, y_pred)\n",
    "    fpr, tpr, _ = roc_curve(y_test, y_scores)\n",
    "    print(\"AUC-ROC score on test set: \", auc)\n",
    "    print(\"Accuracy score on test set: \", acc)\n",
    "    metrics = {\"auc_roc\": auc, \"accuracy\": acc, \"fpr\": fpr, \"tpr\": tpr}\n",
    "    \n",
    "    return metrics\n",
    "\n",
    "def tune_model(model, param_grid, cv=5):\n",
    "    '''Do hyper parameter tuning using GridSearch strategy\n",
    "    \n",
    "        Args:\n",
    "            model: Model to be tuned\n",
    "            param_grid: dict of parameters\n",
    "            X_train: Feature matrix\n",
    "            y_train: Label matrix\n",
    "        \n",
    "        Returns: \n",
    "            best parameters\n",
    "            best estimator\n",
    "        '''\n",
    "\n",
    "    search = GridSearchCV(model, param_grid = param_grid,\n",
    "                        cv = cv,\n",
    "                        scoring='roc_auc',\n",
    "                        return_train_score=True)\n",
    "    \n",
    "    search.fit(X_train, y_train)\n",
    "\n",
    "    best_model = search.best_estimator_\n",
    "    cv_results = search.cv_results_\n",
    "    \n",
    "    print(\"Best parameters: \", search.best_params_)\n",
    "    \n",
    "    print(\"-------------------Best model performance --------------------------\")\n",
    "    \n",
    "    mean_train_score = search.cv_results_['mean_train_score'][search.best_index_]\n",
    "    mean_val_score = search.cv_results_['mean_test_score'][search.best_index_]\n",
    "    std_train_score = search.cv_results_['std_train_score'][search.best_index_]\n",
    "    std_val_score = search.cv_results_['std_test_score'][search.best_index_]\n",
    "\n",
    "    print(f\"Score of the model on the train set:\\n\"\n",
    "         f\"{mean_train_score:.3f} +/- {std_train_score:.6f}\")\n",
    "\n",
    "    print(f\"Score of the model on the validation set:\\n\"\n",
    "        f\"{mean_val_score:.3f} +/- {std_val_score:.6f}\")\n",
    "    \n",
    "    \n",
    "    \n",
    "    return best_model, cv_results\n",
    "\n",
    "def compare_models(model_list, preprocess_pipe, cv):\n",
    "    '''Compare a list of models defined in model_list and return the auc, fpr and tpr\n",
    "        Args:\n",
    "            model_list: List of models to compare. Must be a list of dictionaries with keys;\n",
    "                            name - name of the model\n",
    "                            model - an instance of the estimator,\n",
    "                            param_grid - hyper parameter grid for hp tuning with gridsearch\n",
    "\n",
    "            preprocess_pipe: Pipeline object for preprocessing\n",
    "            cv: cross validation scheme\n",
    "\n",
    "        Returns:\n",
    "            logged_metrics: A dictionary with model names as keys\n",
    "    '''\n",
    "    logged_metrics = {}\n",
    "    for model in model_list:\n",
    "        model_name = model[\"name\"]\n",
    "        print(f\"Training {model_name} model...\")\n",
    "        model_pipe = Pipeline([('preprocess', preprocess_pipe),\n",
    "                                ('model', model[\"model\"])])\n",
    "        \n",
    "        print(f\"Tuning hyper parameters...\")\n",
    "        \n",
    "        param_grid = model[\"param_grid\"]\n",
    "        tuned_model, _ = tune_model(model_pipe, param_grid, cv=cv)\n",
    "        metrics = evaluate_model(tuned_model, X_test, y_test)\n",
    "\n",
    "        #store metrics for later use\n",
    "        logged_metrics[model_name] = metrics\n",
    "        print()\n",
    "\n",
    "    return logged_metrics\n"
   ]
  },
  {
   "attachments": {},
   "cell_type": "markdown",
   "metadata": {},
   "source": [
    "Let's train and compare models"
   ]
  },
  {
   "cell_type": "code",
   "execution_count": 30,
   "metadata": {},
   "outputs": [
    {
     "name": "stdout",
     "output_type": "stream",
     "text": [
      "Training Logistic Regression model...\n",
      "Tuning hyper parameters...\n",
      "Best parameters:  {'model__C': 10, 'model__penalty': 'l1'}\n",
      "-------------------Best model performance --------------------------\n",
      "Score of the model on the train set:\n",
      "0.767 +/- 0.000462\n",
      "Score of the model on the validation set:\n",
      "0.757 +/- 0.002839\n",
      "AUC-ROC score on test set:  0.7581507311967224\n",
      "Accuracy score on test set:  0.7405446293494705\n",
      "\n",
      "Training Decision tree model...\n",
      "Tuning hyper parameters...\n",
      "Best parameters:  {'model__max_depth': 5, 'model__min_samples_leaf': 1, 'model__min_samples_split': 2}\n",
      "-------------------Best model performance --------------------------\n",
      "Score of the model on the train set:\n",
      "0.727 +/- 0.001118\n",
      "Score of the model on the validation set:\n",
      "0.713 +/- 0.003249\n",
      "AUC-ROC score on test set:  0.711410021029821\n",
      "Accuracy score on test set:  0.7190620272314675\n",
      "\n",
      "Training Random Forest model...\n",
      "Tuning hyper parameters...\n",
      "Best parameters:  {'model__min_samples_split': 8, 'model__n_estimators': 500}\n",
      "-------------------Best model performance --------------------------\n",
      "Score of the model on the train set:\n",
      "1.000 +/- 0.000025\n",
      "Score of the model on the validation set:\n",
      "0.768 +/- 0.003620\n",
      "AUC-ROC score on test set:  0.7713972343495871\n",
      "Accuracy score on test set:  0.7440242057488654\n",
      "\n",
      "Training XGBoost model...\n",
      "Tuning hyper parameters...\n",
      "Best parameters:  {'model__max_depth': 5, 'model__n_estimators': 100}\n",
      "-------------------Best model performance --------------------------\n",
      "Score of the model on the train set:\n",
      "0.903 +/- 0.000875\n",
      "Score of the model on the validation set:\n",
      "0.762 +/- 0.002261\n",
      "AUC-ROC score on test set:  0.7656986686475082\n",
      "Accuracy score on test set:  0.7429652042360061\n",
      "\n",
      "Training Gradient boosting trees model...\n",
      "Tuning hyper parameters...\n",
      "Best parameters:  {'model__learning_rate': 0.1, 'model__n_estimators': 300}\n",
      "-------------------Best model performance --------------------------\n",
      "Score of the model on the train set:\n",
      "0.827 +/- 0.000218\n",
      "Score of the model on the validation set:\n",
      "0.771 +/- 0.002534\n",
      "AUC-ROC score on test set:  0.7711728991009326\n",
      "Accuracy score on test set:  0.7473524962178517\n",
      "\n"
     ]
    }
   ],
   "source": [
    "logged_metrics = compare_models(model_list, preprocess_pipe, cv)"
   ]
  },
  {
   "cell_type": "code",
   "execution_count": 32,
   "metadata": {},
   "outputs": [
    {
     "data": {
      "image/png": "[encoded data removed]",
      "text/plain": [
       "<Figure size 800x600 with 1 Axes>"
      ]
     },
     "metadata": {},
     "output_type": "display_data"
    }
   ],
   "source": [
    "def plot_roc_comparison(logged_metrics, title):\n",
    "    '''Function to draw roc curves for multiple models in a single plot'''\n",
    "    \n",
    "    plt.figure(figsize=(8, 6))\n",
    "    plt.xlim([0.0, 1.0])\n",
    "    plt.ylim([0.0, 1.0])\n",
    "    for model in logged_metrics.keys():\n",
    "        metrics = logged_metrics[model]\n",
    "        auc = metrics[\"auc_roc\"]\n",
    "        label = f\"{model}: AUC-ROC = {auc:.3f}\"\n",
    "        plt.plot(metrics[\"fpr\"], metrics[\"tpr\"], label=label)\n",
    "\n",
    "    plt.title(title)\n",
    "    plt.xlabel(\"False positive rate\")\n",
    "    plt.ylabel(\"True positive rate\")\n",
    "    plt.legend()\n",
    "    plt.show()\n",
    "\n",
    "plot_roc_comparison(logged_metrics, \"Model comparison - ROC\")"
   ]
  },
  {
   "attachments": {},
   "cell_type": "markdown",
   "metadata": {},
   "source": [
    "Both Random forest and gradient boost model seems to perform best with AUC-ROC of 0.771. We can choose either for final predictions. I am choosing Gradient boost since it is said to be more stable(at least theoretically.)"
   ]
  },
  {
   "attachments": {},
   "cell_type": "markdown",
   "metadata": {},
   "source": [
    "## Retraining the best model on the entire training data"
   ]
  },
  {
   "cell_type": "code",
   "execution_count": 34,
   "metadata": {},
   "outputs": [],
   "source": [
    "train_features = pd.read_csv(\"./../Training/X_train.csv\")\n",
    "train_labels = pd.read_csv(\"./../Training/y_train.csv\")\n",
    "\n",
    "test_features = pd.read_csv(\"./../Test/X_test.csv\")"
   ]
  },
  {
   "cell_type": "code",
   "execution_count": 35,
   "metadata": {},
   "outputs": [],
   "source": [
    "y_train = train_labels[\"Dependent_Variable\"]\n",
    "X_train = train_features.drop(\"Unique_ID\", axis=1)\n",
    "\n",
    "test_ID = test_features[\"Unique_ID\"]\n",
    "X_test = test_features.drop(\"Unique_ID\", axis=1)"
   ]
  },
  {
   "cell_type": "code",
   "execution_count": 37,
   "metadata": {},
   "outputs": [],
   "source": [
    "gradient_boost_pipe = Pipeline([('preprocess', preprocess_pipe),\n",
    "                                ('model', GradientBoostingClassifier(n_estimators=300, \n",
    "                                                                    learning_rate=0.1, \n",
    "                                                                    random_state=42))])"
   ]
  },
  {
   "cell_type": "code",
   "execution_count": 38,
   "metadata": {},
   "outputs": [
    {
     "data": {
      "text/html": [
       "<style>#sk-container-id-3 {color: black;background-color: white;}#sk-container-id-3 pre{padding: 0;}#sk-container-id-3 div.sk-toggleable {background-color: white;}#sk-container-id-3 label.sk-toggleable__label {cursor: pointer;display: block;width: 100%;margin-bottom: 0;padding: 0.3em;box-sizing: border-box;text-align: center;}#sk-container-id-3 label.sk-toggleable__label-arrow:before {content: \"▸\";float: left;margin-right: 0.25em;color: #696969;}#sk-container-id-3 label.sk-toggleable__label-arrow:hover:before {color: black;}#sk-container-id-3 div.sk-estimator:hover label.sk-toggleable__label-arrow:before {color: black;}#sk-container-id-3 div.sk-toggleable__content {max-height: 0;max-width: 0;overflow: hidden;text-align: left;background-color: #f0f8ff;}#sk-container-id-3 div.sk-toggleable__content pre {margin: 0.2em;color: black;border-radius: 0.25em;background-color: #f0f8ff;}#sk-container-id-3 input.sk-toggleable__control:checked~div.sk-toggleable__content {max-height: 200px;max-width: 100%;overflow: auto;}#sk-container-id-3 input.sk-toggleable__control:checked~label.sk-toggleable__label-arrow:before {content: \"▾\";}#sk-container-id-3 div.sk-estimator input.sk-toggleable__control:checked~label.sk-toggleable__label {background-color: #d4ebff;}#sk-container-id-3 div.sk-label input.sk-toggleable__control:checked~label.sk-toggleable__label {background-color: #d4ebff;}#sk-container-id-3 input.sk-hidden--visually {border: 0;clip: rect(1px 1px 1px 1px);clip: rect(1px, 1px, 1px, 1px);height: 1px;margin: -1px;overflow: hidden;padding: 0;position: absolute;width: 1px;}#sk-container-id-3 div.sk-estimator {font-family: monospace;background-color: #f0f8ff;border: 1px dotted black;border-radius: 0.25em;box-sizing: border-box;margin-bottom: 0.5em;}#sk-container-id-3 div.sk-estimator:hover {background-color: #d4ebff;}#sk-container-id-3 div.sk-parallel-item::after {content: \"\";width: 100%;border-bottom: 1px solid gray;flex-grow: 1;}#sk-container-id-3 div.sk-label:hover label.sk-toggleable__label {background-color: #d4ebff;}#sk-container-id-3 div.sk-serial::before {content: \"\";position: absolute;border-left: 1px solid gray;box-sizing: border-box;top: 0;bottom: 0;left: 50%;z-index: 0;}#sk-container-id-3 div.sk-serial {display: flex;flex-direction: column;align-items: center;background-color: white;padding-right: 0.2em;padding-left: 0.2em;position: relative;}#sk-container-id-3 div.sk-item {position: relative;z-index: 1;}#sk-container-id-3 div.sk-parallel {display: flex;align-items: stretch;justify-content: center;background-color: white;position: relative;}#sk-container-id-3 div.sk-item::before, #sk-container-id-3 div.sk-parallel-item::before {content: \"\";position: absolute;border-left: 1px solid gray;box-sizing: border-box;top: 0;bottom: 0;left: 50%;z-index: -1;}#sk-container-id-3 div.sk-parallel-item {display: flex;flex-direction: column;z-index: 1;position: relative;background-color: white;}#sk-container-id-3 div.sk-parallel-item:first-child::after {align-self: flex-end;width: 50%;}#sk-container-id-3 div.sk-parallel-item:last-child::after {align-self: flex-start;width: 50%;}#sk-container-id-3 div.sk-parallel-item:only-child::after {width: 0;}#sk-container-id-3 div.sk-dashed-wrapped {border: 1px dashed gray;margin: 0 0.4em 0.5em 0.4em;box-sizing: border-box;padding-bottom: 0.4em;background-color: white;}#sk-container-id-3 div.sk-label label {font-family: monospace;font-weight: bold;display: inline-block;line-height: 1.2em;}#sk-container-id-3 div.sk-label-container {text-align: center;}#sk-container-id-3 div.sk-container {/* jupyter's `normalize.less` sets `[hidden] { display: none; }` but bootstrap.min.css set `[hidden] { display: none !important; }` so we also need the `!important` here to be able to override the default hidden behavior on the sphinx rendered scikit-learn.org. See: https://github.com/scikit-learn/scikit-learn/issues/21755 */display: inline-block !important;position: relative;}#sk-container-id-3 div.sk-text-repr-fallback {display: none;}</style><div id=\"sk-container-id-3\" class=\"sk-top-container\"><div class=\"sk-text-repr-fallback\"><pre>Pipeline(steps=[(&#x27;preprocess&#x27;,\n",
       "                 FeatureUnion(transformer_list=[(&#x27;cat&#x27;,\n",
       "                                                 Pipeline(steps=[(&#x27;selector&#x27;,\n",
       "                                                                  ColumnTransformer(transformers=[(&#x27;select_cat&#x27;,\n",
       "                                                                                                   &#x27;passthrough&#x27;,\n",
       "                                                                                                   [&#x27;C1&#x27;,\n",
       "                                                                                                    &#x27;C2&#x27;,\n",
       "                                                                                                    &#x27;C3&#x27;,\n",
       "                                                                                                    &#x27;C4&#x27;,\n",
       "                                                                                                    &#x27;C5&#x27;,\n",
       "                                                                                                    &#x27;C6&#x27;,\n",
       "                                                                                                    &#x27;C7&#x27;,\n",
       "                                                                                                    &#x27;C8&#x27;])])),\n",
       "                                                                 (&#x27;onehot&#x27;,\n",
       "                                                                  OneHotEncoder(handle_unknown=&#x27;infrequent_if_exist&#x27;))])),\n",
       "                                                (&#x27;num&#x27;,\n",
       "                                                 Pipeline(steps=[(&#x27;selector&#x27;,\n",
       "                                                                  ColumnTransformer(transformers=[(&#x27;select_num&#x27;,\n",
       "                                                                                                   &#x27;passthrough&#x27;,\n",
       "                                                                                                   [&#x27;N1&#x27;,\n",
       "                                                                                                    &#x27;N2&#x27;,\n",
       "                                                                                                    &#x27;N3&#x27;,\n",
       "                                                                                                    &#x27;N4&#x27;,\n",
       "                                                                                                    &#x27;N9&#x27;,\n",
       "                                                                                                    &#x27;N10&#x27;,\n",
       "                                                                                                    &#x27;N10.1&#x27;,\n",
       "                                                                                                    &#x27;N11&#x27;,\n",
       "                                                                                                    &#x27;N12&#x27;,\n",
       "                                                                                                    &#x27;N14&#x27;,\n",
       "                                                                                                    &#x27;N15&#x27;,\n",
       "                                                                                                    &#x27;N16&#x27;,\n",
       "                                                                                                    &#x27;N17&#x27;,\n",
       "                                                                                                    &#x27;N18&#x27;,\n",
       "                                                                                                    &#x27;N19&#x27;,\n",
       "                                                                                                    &#x27;N20&#x27;,\n",
       "                                                                                                    &#x27;N21&#x27;,\n",
       "                                                                                                    &#x27;N22&#x27;,\n",
       "                                                                                                    &#x27;N23&#x27;,\n",
       "                                                                                                    &#x27;N24&#x27;,\n",
       "                                                                                                    &#x27;N33&#x27;,\n",
       "                                                                                                    &#x27;N34&#x27;,\n",
       "                                                                                                    &#x27;N35&#x27;])])),\n",
       "                                                                 (&#x27;imputer&#x27;,\n",
       "                                                                  SimpleImputer()),\n",
       "                                                                 (&#x27;scaler&#x27;,\n",
       "                                                                  MinMaxScaler())]))])),\n",
       "                (&#x27;model&#x27;,\n",
       "                 GradientBoostingClassifier(n_estimators=300,\n",
       "                                            random_state=42))])</pre><b>In a Jupyter environment, please rerun this cell to show the HTML representation or trust the notebook. <br />On GitHub, the HTML representation is unable to render, please try loading this page with nbviewer.org.</b></div><div class=\"sk-container\" hidden><div class=\"sk-item sk-dashed-wrapped\"><div class=\"sk-label-container\"><div class=\"sk-label sk-toggleable\"><input class=\"sk-toggleable__control sk-hidden--visually\" id=\"sk-estimator-id-21\" type=\"checkbox\" ><label for=\"sk-estimator-id-21\" class=\"sk-toggleable__label sk-toggleable__label-arrow\">Pipeline</label><div class=\"sk-toggleable__content\"><pre>Pipeline(steps=[(&#x27;preprocess&#x27;,\n",
       "                 FeatureUnion(transformer_list=[(&#x27;cat&#x27;,\n",
       "                                                 Pipeline(steps=[(&#x27;selector&#x27;,\n",
       "                                                                  ColumnTransformer(transformers=[(&#x27;select_cat&#x27;,\n",
       "                                                                                                   &#x27;passthrough&#x27;,\n",
       "                                                                                                   [&#x27;C1&#x27;,\n",
       "                                                                                                    &#x27;C2&#x27;,\n",
       "                                                                                                    &#x27;C3&#x27;,\n",
       "                                                                                                    &#x27;C4&#x27;,\n",
       "                                                                                                    &#x27;C5&#x27;,\n",
       "                                                                                                    &#x27;C6&#x27;,\n",
       "                                                                                                    &#x27;C7&#x27;,\n",
       "                                                                                                    &#x27;C8&#x27;])])),\n",
       "                                                                 (&#x27;onehot&#x27;,\n",
       "                                                                  OneHotEncoder(handle_unknown=&#x27;infrequent_if_exist&#x27;))])),\n",
       "                                                (&#x27;num&#x27;,\n",
       "                                                 Pipeline(steps=[(&#x27;selector&#x27;,\n",
       "                                                                  ColumnTransformer(transformers=[(&#x27;select_num&#x27;,\n",
       "                                                                                                   &#x27;passthrough&#x27;,\n",
       "                                                                                                   [&#x27;N1&#x27;,\n",
       "                                                                                                    &#x27;N2&#x27;,\n",
       "                                                                                                    &#x27;N3&#x27;,\n",
       "                                                                                                    &#x27;N4&#x27;,\n",
       "                                                                                                    &#x27;N9&#x27;,\n",
       "                                                                                                    &#x27;N10&#x27;,\n",
       "                                                                                                    &#x27;N10.1&#x27;,\n",
       "                                                                                                    &#x27;N11&#x27;,\n",
       "                                                                                                    &#x27;N12&#x27;,\n",
       "                                                                                                    &#x27;N14&#x27;,\n",
       "                                                                                                    &#x27;N15&#x27;,\n",
       "                                                                                                    &#x27;N16&#x27;,\n",
       "                                                                                                    &#x27;N17&#x27;,\n",
       "                                                                                                    &#x27;N18&#x27;,\n",
       "                                                                                                    &#x27;N19&#x27;,\n",
       "                                                                                                    &#x27;N20&#x27;,\n",
       "                                                                                                    &#x27;N21&#x27;,\n",
       "                                                                                                    &#x27;N22&#x27;,\n",
       "                                                                                                    &#x27;N23&#x27;,\n",
       "                                                                                                    &#x27;N24&#x27;,\n",
       "                                                                                                    &#x27;N33&#x27;,\n",
       "                                                                                                    &#x27;N34&#x27;,\n",
       "                                                                                                    &#x27;N35&#x27;])])),\n",
       "                                                                 (&#x27;imputer&#x27;,\n",
       "                                                                  SimpleImputer()),\n",
       "                                                                 (&#x27;scaler&#x27;,\n",
       "                                                                  MinMaxScaler())]))])),\n",
       "                (&#x27;model&#x27;,\n",
       "                 GradientBoostingClassifier(n_estimators=300,\n",
       "                                            random_state=42))])</pre></div></div></div><div class=\"sk-serial\"><div class=\"sk-item sk-dashed-wrapped\"><div class=\"sk-label-container\"><div class=\"sk-label sk-toggleable\"><input class=\"sk-toggleable__control sk-hidden--visually\" id=\"sk-estimator-id-22\" type=\"checkbox\" ><label for=\"sk-estimator-id-22\" class=\"sk-toggleable__label sk-toggleable__label-arrow\">preprocess: FeatureUnion</label><div class=\"sk-toggleable__content\"><pre>FeatureUnion(transformer_list=[(&#x27;cat&#x27;,\n",
       "                                Pipeline(steps=[(&#x27;selector&#x27;,\n",
       "                                                 ColumnTransformer(transformers=[(&#x27;select_cat&#x27;,\n",
       "                                                                                  &#x27;passthrough&#x27;,\n",
       "                                                                                  [&#x27;C1&#x27;,\n",
       "                                                                                   &#x27;C2&#x27;,\n",
       "                                                                                   &#x27;C3&#x27;,\n",
       "                                                                                   &#x27;C4&#x27;,\n",
       "                                                                                   &#x27;C5&#x27;,\n",
       "                                                                                   &#x27;C6&#x27;,\n",
       "                                                                                   &#x27;C7&#x27;,\n",
       "                                                                                   &#x27;C8&#x27;])])),\n",
       "                                                (&#x27;onehot&#x27;,\n",
       "                                                 OneHotEncoder(handle_unknown=&#x27;infrequent_if_exist&#x27;))])),\n",
       "                               (&#x27;num&#x27;,\n",
       "                                Pipeline(steps=[(&#x27;selector&#x27;,\n",
       "                                                 ColumnTransformer(transformers=[(&#x27;select_num&#x27;,\n",
       "                                                                                  &#x27;passthrough&#x27;,\n",
       "                                                                                  [&#x27;N1&#x27;,\n",
       "                                                                                   &#x27;N2&#x27;,\n",
       "                                                                                   &#x27;N3&#x27;,\n",
       "                                                                                   &#x27;N4&#x27;,\n",
       "                                                                                   &#x27;N9&#x27;,\n",
       "                                                                                   &#x27;N10&#x27;,\n",
       "                                                                                   &#x27;N10.1&#x27;,\n",
       "                                                                                   &#x27;N11&#x27;,\n",
       "                                                                                   &#x27;N12&#x27;,\n",
       "                                                                                   &#x27;N14&#x27;,\n",
       "                                                                                   &#x27;N15&#x27;,\n",
       "                                                                                   &#x27;N16&#x27;,\n",
       "                                                                                   &#x27;N17&#x27;,\n",
       "                                                                                   &#x27;N18&#x27;,\n",
       "                                                                                   &#x27;N19&#x27;,\n",
       "                                                                                   &#x27;N20&#x27;,\n",
       "                                                                                   &#x27;N21&#x27;,\n",
       "                                                                                   &#x27;N22&#x27;,\n",
       "                                                                                   &#x27;N23&#x27;,\n",
       "                                                                                   &#x27;N24&#x27;,\n",
       "                                                                                   &#x27;N33&#x27;,\n",
       "                                                                                   &#x27;N34&#x27;,\n",
       "                                                                                   &#x27;N35&#x27;])])),\n",
       "                                                (&#x27;imputer&#x27;, SimpleImputer()),\n",
       "                                                (&#x27;scaler&#x27;, MinMaxScaler())]))])</pre></div></div></div><div class=\"sk-parallel\"><div class=\"sk-parallel-item\"><div class=\"sk-item\"><div class=\"sk-label-container\"><div class=\"sk-label sk-toggleable\"><label>cat</label></div></div><div class=\"sk-serial\"><div class=\"sk-item\"><div class=\"sk-serial\"><div class=\"sk-item sk-dashed-wrapped\"><div class=\"sk-label-container\"><div class=\"sk-label sk-toggleable\"><input class=\"sk-toggleable__control sk-hidden--visually\" id=\"sk-estimator-id-23\" type=\"checkbox\" ><label for=\"sk-estimator-id-23\" class=\"sk-toggleable__label sk-toggleable__label-arrow\">selector: ColumnTransformer</label><div class=\"sk-toggleable__content\"><pre>ColumnTransformer(transformers=[(&#x27;select_cat&#x27;, &#x27;passthrough&#x27;,\n",
       "                                 [&#x27;C1&#x27;, &#x27;C2&#x27;, &#x27;C3&#x27;, &#x27;C4&#x27;, &#x27;C5&#x27;, &#x27;C6&#x27;, &#x27;C7&#x27;,\n",
       "                                  &#x27;C8&#x27;])])</pre></div></div></div><div class=\"sk-parallel\"><div class=\"sk-parallel-item\"><div class=\"sk-item\"><div class=\"sk-label-container\"><div class=\"sk-label sk-toggleable\"><input class=\"sk-toggleable__control sk-hidden--visually\" id=\"sk-estimator-id-24\" type=\"checkbox\" ><label for=\"sk-estimator-id-24\" class=\"sk-toggleable__label sk-toggleable__label-arrow\">select_cat</label><div class=\"sk-toggleable__content\"><pre>[&#x27;C1&#x27;, &#x27;C2&#x27;, &#x27;C3&#x27;, &#x27;C4&#x27;, &#x27;C5&#x27;, &#x27;C6&#x27;, &#x27;C7&#x27;, &#x27;C8&#x27;]</pre></div></div></div><div class=\"sk-serial\"><div class=\"sk-item\"><div class=\"sk-estimator sk-toggleable\"><input class=\"sk-toggleable__control sk-hidden--visually\" id=\"sk-estimator-id-25\" type=\"checkbox\" ><label for=\"sk-estimator-id-25\" class=\"sk-toggleable__label sk-toggleable__label-arrow\">passthrough</label><div class=\"sk-toggleable__content\"><pre>passthrough</pre></div></div></div></div></div></div></div></div><div class=\"sk-item\"><div class=\"sk-estimator sk-toggleable\"><input class=\"sk-toggleable__control sk-hidden--visually\" id=\"sk-estimator-id-26\" type=\"checkbox\" ><label for=\"sk-estimator-id-26\" class=\"sk-toggleable__label sk-toggleable__label-arrow\">OneHotEncoder</label><div class=\"sk-toggleable__content\"><pre>OneHotEncoder(handle_unknown=&#x27;infrequent_if_exist&#x27;)</pre></div></div></div></div></div></div></div></div><div class=\"sk-parallel-item\"><div class=\"sk-item\"><div class=\"sk-label-container\"><div class=\"sk-label sk-toggleable\"><label>num</label></div></div><div class=\"sk-serial\"><div class=\"sk-item\"><div class=\"sk-serial\"><div class=\"sk-item sk-dashed-wrapped\"><div class=\"sk-label-container\"><div class=\"sk-label sk-toggleable\"><input class=\"sk-toggleable__control sk-hidden--visually\" id=\"sk-estimator-id-27\" type=\"checkbox\" ><label for=\"sk-estimator-id-27\" class=\"sk-toggleable__label sk-toggleable__label-arrow\">selector: ColumnTransformer</label><div class=\"sk-toggleable__content\"><pre>ColumnTransformer(transformers=[(&#x27;select_num&#x27;, &#x27;passthrough&#x27;,\n",
       "                                 [&#x27;N1&#x27;, &#x27;N2&#x27;, &#x27;N3&#x27;, &#x27;N4&#x27;, &#x27;N9&#x27;, &#x27;N10&#x27;, &#x27;N10.1&#x27;,\n",
       "                                  &#x27;N11&#x27;, &#x27;N12&#x27;, &#x27;N14&#x27;, &#x27;N15&#x27;, &#x27;N16&#x27;, &#x27;N17&#x27;,\n",
       "                                  &#x27;N18&#x27;, &#x27;N19&#x27;, &#x27;N20&#x27;, &#x27;N21&#x27;, &#x27;N22&#x27;, &#x27;N23&#x27;,\n",
       "                                  &#x27;N24&#x27;, &#x27;N33&#x27;, &#x27;N34&#x27;, &#x27;N35&#x27;])])</pre></div></div></div><div class=\"sk-parallel\"><div class=\"sk-parallel-item\"><div class=\"sk-item\"><div class=\"sk-label-container\"><div class=\"sk-label sk-toggleable\"><input class=\"sk-toggleable__control sk-hidden--visually\" id=\"sk-estimator-id-28\" type=\"checkbox\" ><label for=\"sk-estimator-id-28\" class=\"sk-toggleable__label sk-toggleable__label-arrow\">select_num</label><div class=\"sk-toggleable__content\"><pre>[&#x27;N1&#x27;, &#x27;N2&#x27;, &#x27;N3&#x27;, &#x27;N4&#x27;, &#x27;N9&#x27;, &#x27;N10&#x27;, &#x27;N10.1&#x27;, &#x27;N11&#x27;, &#x27;N12&#x27;, &#x27;N14&#x27;, &#x27;N15&#x27;, &#x27;N16&#x27;, &#x27;N17&#x27;, &#x27;N18&#x27;, &#x27;N19&#x27;, &#x27;N20&#x27;, &#x27;N21&#x27;, &#x27;N22&#x27;, &#x27;N23&#x27;, &#x27;N24&#x27;, &#x27;N33&#x27;, &#x27;N34&#x27;, &#x27;N35&#x27;]</pre></div></div></div><div class=\"sk-serial\"><div class=\"sk-item\"><div class=\"sk-estimator sk-toggleable\"><input class=\"sk-toggleable__control sk-hidden--visually\" id=\"sk-estimator-id-29\" type=\"checkbox\" ><label for=\"sk-estimator-id-29\" class=\"sk-toggleable__label sk-toggleable__label-arrow\">passthrough</label><div class=\"sk-toggleable__content\"><pre>passthrough</pre></div></div></div></div></div></div></div></div><div class=\"sk-item\"><div class=\"sk-estimator sk-toggleable\"><input class=\"sk-toggleable__control sk-hidden--visually\" id=\"sk-estimator-id-30\" type=\"checkbox\" ><label for=\"sk-estimator-id-30\" class=\"sk-toggleable__label sk-toggleable__label-arrow\">SimpleImputer</label><div class=\"sk-toggleable__content\"><pre>SimpleImputer()</pre></div></div></div><div class=\"sk-item\"><div class=\"sk-estimator sk-toggleable\"><input class=\"sk-toggleable__control sk-hidden--visually\" id=\"sk-estimator-id-31\" type=\"checkbox\" ><label for=\"sk-estimator-id-31\" class=\"sk-toggleable__label sk-toggleable__label-arrow\">MinMaxScaler</label><div class=\"sk-toggleable__content\"><pre>MinMaxScaler()</pre></div></div></div></div></div></div></div></div></div></div><div class=\"sk-item\"><div class=\"sk-estimator sk-toggleable\"><input class=\"sk-toggleable__control sk-hidden--visually\" id=\"sk-estimator-id-32\" type=\"checkbox\" ><label for=\"sk-estimator-id-32\" class=\"sk-toggleable__label sk-toggleable__label-arrow\">GradientBoostingClassifier</label><div class=\"sk-toggleable__content\"><pre>GradientBoostingClassifier(n_estimators=300, random_state=42)</pre></div></div></div></div></div></div></div>"
      ],
      "text/plain": [
       "Pipeline(steps=[('preprocess',\n",
       "                 FeatureUnion(transformer_list=[('cat',\n",
       "                                                 Pipeline(steps=[('selector',\n",
       "                                                                  ColumnTransformer(transformers=[('select_cat',\n",
       "                                                                                                   'passthrough',\n",
       "                                                                                                   ['C1',\n",
       "                                                                                                    'C2',\n",
       "                                                                                                    'C3',\n",
       "                                                                                                    'C4',\n",
       "                                                                                                    'C5',\n",
       "                                                                                                    'C6',\n",
       "                                                                                                    'C7',\n",
       "                                                                                                    'C8'])])),\n",
       "                                                                 ('onehot',\n",
       "                                                                  OneHotEncoder(handle_unknown='infrequent_if_exist'))])),\n",
       "                                                ('num',\n",
       "                                                 Pipeline(steps=[('selector',\n",
       "                                                                  ColumnTransformer(transformers=[('select_num',\n",
       "                                                                                                   'passthrough',\n",
       "                                                                                                   ['N1',\n",
       "                                                                                                    'N2',\n",
       "                                                                                                    'N3',\n",
       "                                                                                                    'N4',\n",
       "                                                                                                    'N9',\n",
       "                                                                                                    'N10',\n",
       "                                                                                                    'N10.1',\n",
       "                                                                                                    'N11',\n",
       "                                                                                                    'N12',\n",
       "                                                                                                    'N14',\n",
       "                                                                                                    'N15',\n",
       "                                                                                                    'N16',\n",
       "                                                                                                    'N17',\n",
       "                                                                                                    'N18',\n",
       "                                                                                                    'N19',\n",
       "                                                                                                    'N20',\n",
       "                                                                                                    'N21',\n",
       "                                                                                                    'N22',\n",
       "                                                                                                    'N23',\n",
       "                                                                                                    'N24',\n",
       "                                                                                                    'N33',\n",
       "                                                                                                    'N34',\n",
       "                                                                                                    'N35'])])),\n",
       "                                                                 ('imputer',\n",
       "                                                                  SimpleImputer()),\n",
       "                                                                 ('scaler',\n",
       "                                                                  MinMaxScaler())]))])),\n",
       "                ('model',\n",
       "                 GradientBoostingClassifier(n_estimators=300,\n",
       "                                            random_state=42))])"
      ]
     },
     "execution_count": 38,
     "metadata": {},
     "output_type": "execute_result"
    }
   ],
   "source": [
    "gradient_boost_pipe.fit(X_train, y_train)"
   ]
  },
  {
   "attachments": {},
   "cell_type": "markdown",
   "metadata": {},
   "source": [
    "## Final prediction"
   ]
  },
  {
   "cell_type": "code",
   "execution_count": 39,
   "metadata": {},
   "outputs": [],
   "source": [
    "y_scores = gradient_boost_pipe.predict_proba(X_test)[:, 1]"
   ]
  },
  {
   "cell_type": "code",
   "execution_count": 40,
   "metadata": {},
   "outputs": [],
   "source": [
    "result_df = pd.DataFrame({\"Unique_ID\": test_ID, \"Class_1_Probability\": y_scores})"
   ]
  },
  {
   "cell_type": "code",
   "execution_count": 41,
   "metadata": {},
   "outputs": [],
   "source": [
    "result_df.to_csv(\"./../Test/final_predictions.csv\", index=False)"
   ]
  },
  {
   "cell_type": "code",
   "execution_count": null,
   "metadata": {},
   "outputs": [],
   "source": []
  }
 ],
 "metadata": {
  "kernelspec": {
   "display_name": "DS_Test-tmAUNUap",
   "language": "python",
   "name": "python3"
  },
  "language_info": {
   "codemirror_mode": {
    "name": "ipython",
    "version": 3
   },
   "file_extension": ".py",
   "mimetype": "text/x-python",
   "name": "python",
   "nbconvert_exporter": "python",
   "pygments_lexer": "ipython3",
   "version": "3.10.6 (main, Nov 14 2022, 16:10:14) [GCC 11.3.0]"
  },
  "orig_nbformat": 4,
  "vscode": {
   "interpreter": {
    "hash": "8d3841023f8ff1c2e6fb1e95f481891f79536ffda216b404d29653bfa4189526"
   }
  }
 },
 "nbformat": 4,
 "nbformat_minor": 2
}
